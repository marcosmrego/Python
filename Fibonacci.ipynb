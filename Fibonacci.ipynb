{
  "nbformat": 4,
  "nbformat_minor": 0,
  "metadata": {
    "colab": {
      "name": "Fibonacci.ipynb",
      "provenance": [],
      "authorship_tag": "ABX9TyOkHus2w9xHChC0j7RyPiqg",
      "include_colab_link": true
    },
    "kernelspec": {
      "name": "python3",
      "display_name": "Python 3"
    }
  },
  "cells": [
    {
      "cell_type": "markdown",
      "metadata": {
        "id": "view-in-github",
        "colab_type": "text"
      },
      "source": [
        "<a href=\"https://colab.research.google.com/github/marcosmrego/Python/blob/master/Fibonacci.ipynb\" target=\"_parent\"><img src=\"https://colab.research.google.com/assets/colab-badge.svg\" alt=\"Open In Colab\"/></a>"
      ]
    },
    {
      "cell_type": "code",
      "metadata": {
        "id": "S0jGEQZRDbwW",
        "colab_type": "code",
        "colab": {
          "base_uri": "https://localhost:8080/",
          "height": 408
        },
        "outputId": "3da2cbd3-234d-4d40-8a41-1669f9818c94"
      },
      "source": [
        "# GERA A SEQUÊNCIA DE FIBONACCI OU A GENERALIZADA USANDO A REGRA DE FIBONACCI\n",
        "import math # Ativa o módulo de funções matemáticas\n",
        "\"\"\" Usa a regra de Fibonacci (cada elemento é a soma dos dois anteriores)\n",
        "    para gerar uma sequência de N números de Fibonacci ou de números positivos\n",
        "    ou negativos (um dos dois iniciais deve ser diferente de zero) e a razão entre cada dois\n",
        "    elementos consecutivos; estes ultrapassarem 999 haverá perda do alinhamento dos resultados.\"\"\"\n",
        "print('Deseja a sequência de Fibonacci (F) ou uma qualquer (Q)?')\n",
        "Resposta='X'\n",
        "# Verifica se a resposta foi F ou Q, senão insiste\n",
        "while Resposta != 'F' and Resposta != 'Q':\n",
        "   Resposta=input('Digite F ou Q: ')\n",
        "   if Resposta == 'F':\n",
        "      FibA = 1\n",
        "      FibB = 1\n",
        "   elif Resposta == 'Q':\n",
        "     while True:\n",
        "        FibA = int(input('Entre com o primeiro número: '))\n",
        "        FibB = int(input('Entre com o segundo número: '))\n",
        "        if FibA == 0 and FibB == 0:\n",
        "          print('Um deles deve ser diferente de zero!')\n",
        "        else: break\n",
        "while True:\n",
        "   Ult=int(input('Entre com o número de elementos: '))\n",
        "   if Ult <=1:\n",
        "      print('O número de elementos deve ser >= 2!')\n",
        "   else: break    \n",
        "# Imprime os títulos da tabela\n",
        "if Resposta == 'F':\n",
        "   print(' N Fib(N) Razão')\n",
        "else: print(' N Qquer(N) Razão')\n",
        "# Imprime os dois primeiros elementos\n",
        "if Resposta == 'F':\n",
        "   print ('001 001')\n",
        "   print ('002 001 1.0')\n",
        "else: # Resposta foi Q\n",
        "# Imprime os dois primeiros elementos\n",
        "  if Resposta == 'F':\n",
        "      print ('001 001')\n",
        "      print ('002 001 1.0')\n",
        "  else: # Resposta foi Q\n",
        "    if FibA>=0:\n",
        "       print('001', '00'+str(FibA) if FibA<10 else '0'+str(FibA) if FibA<100 else FibA)\n",
        "    else: print('001 ' ,'-00'+str(abs(FibA)) if abs(FibA)<10 else '-0'+str(abs(FibA)) if\n",
        "      abs(FibA)<100 else FibA)\n",
        "    if FibB>=0:\n",
        "      print('002', '00'+str(FibB) if FibB<10 else '0'+str(FibB) if FibB<100 else FibB,\n",
        "      FibB/FibA if FibA != 0 else \" \") # evita a divisão por 0\n",
        "    else: print('002' ,'-00'+str(abs(FibB)) if abs(FibB)<10 else '-0'+str(abs(FibB))\n",
        "        if abs(FibB)<100 else FibB, FibB/FibA if FibA!=0 else \" \") # evita a divisão por 0\n",
        "          #Gera a sequência a partir do 3o. elementeo\n",
        "for N in range (1, Ult+1): #gera uma linha enquanto até o último elemento\n",
        "   Aux = FibA + FibB # Cada novo elemento será a soma dos dois anteriores\n",
        "   FibA = FibB # O segundo elemento torna-se o primeiro\n",
        "   FibB = Aux # O segundo elemento recebe a soma dos dois anteriores\n",
        "   # Concatena um 00 à esquerda se Fib(N) for menor do que 10\n",
        "   # e 0 se for maior do que 9 e menor do que 100 inserindo - se for negativo\n",
        "   if FibB>0:\n",
        "     print('00'+str(N) if N<10 else '0'+str(N) if N<100 else N,\n",
        "     '00'+str(FibB) if FibB<10 else\n",
        "     '0'+str(FibB) if FibB<100 else FibB, FibB/FibA if FibA != 0 else \" \")\n",
        "   else: print('00'+str(N) if N<10 else '0'+str(N) if N<100 else N,\n",
        "     '-00'+str(abs(FibB)) if abs(FibB)<10 else\n",
        "     '-0'+str(abs(FibB)) if abs(FibB)<100 else FibB, FibB/FibA if FibA!=0 else \" \")\n",
        "RazAu = (1+math.sqrt(5))/2 #Razão Áurea\n",
        "print('Compare com a razão áurea:\\n','      '+str(RazAu)if FibB>0 else ' '+str(RazAu))"
      ],
      "execution_count": 4,
      "outputs": [
        {
          "output_type": "stream",
          "text": [
            "Deseja a sequência de Fibonacci (F) ou uma qualquer (Q)?\n",
            "Digite F ou Q: F\n",
            "Entre com o número de elementos: 15\n",
            " N Fib(N) Razão\n",
            "001 001\n",
            "002 001 1.0\n",
            "001 002 2.0\n",
            "002 003 1.5\n",
            "003 005 1.6666666666666667\n",
            "004 008 1.6\n",
            "005 013 1.625\n",
            "006 021 1.6153846153846154\n",
            "007 034 1.619047619047619\n",
            "008 055 1.6176470588235294\n",
            "009 089 1.6181818181818182\n",
            "010 144 1.6179775280898876\n",
            "011 233 1.6180555555555556\n",
            "012 377 1.6180257510729614\n",
            "013 610 1.6180371352785146\n",
            "014 987 1.618032786885246\n",
            "015 1597 1.618034447821682\n",
            "Compare com a razão áurea:\n",
            "       1.618033988749895\n"
          ],
          "name": "stdout"
        }
      ]
    }
  ]
}